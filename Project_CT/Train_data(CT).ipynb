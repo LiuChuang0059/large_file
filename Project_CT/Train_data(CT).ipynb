{
 "cells": [
  {
   "cell_type": "markdown",
   "metadata": {
    "toc": true
   },
   "source": [
    "<h1>Table of Contents<span class=\"tocSkip\"></span></h1>\n",
    "<div class=\"toc\"><ul class=\"toc-item\"><li><span><a href=\"#训练-带有-CT-值的数据\" data-toc-modified-id=\"训练-带有-CT-值的数据-1\"><span class=\"toc-item-num\">1&nbsp;&nbsp;</span>训练 带有 CT 值的数据</a></span></li><li><span><a href=\"#数据预处理\" data-toc-modified-id=\"数据预处理-2\"><span class=\"toc-item-num\">2&nbsp;&nbsp;</span>数据预处理</a></span></li></ul></div>"
   ]
  },
  {
   "cell_type": "markdown",
   "metadata": {
    "ExecuteTime": {
     "end_time": "2019-06-09T02:43:34.175456Z",
     "start_time": "2019-06-09T02:43:34.172134Z"
    }
   },
   "source": [
    "# 训练 带有 CT 值的数据"
   ]
  },
  {
   "cell_type": "code",
   "execution_count": 1,
   "metadata": {
    "ExecuteTime": {
     "end_time": "2019-06-09T02:43:19.610668Z",
     "start_time": "2019-06-09T02:43:12.083002Z"
    }
   },
   "outputs": [
    {
     "name": "stderr",
     "output_type": "stream",
     "text": [
      "Using TensorFlow backend.\n"
     ]
    }
   ],
   "source": [
    "import numpy as np\n",
    "import matplotlib.pyplot as plt\n",
    "import pandas as pd\n",
    "from pandas import DataFrame\n",
    "\n",
    "import random  \n",
    "\n",
    "import keras\n",
    "import tensorflow as tf\n",
    "from keras import backend as K\n",
    "from keras.layers import LSTM, TimeDistributed, BatchNormalization, Bidirectional, Dense, Dropout\n",
    "from keras.models import Sequential, Model, load_model\n",
    "from keras.optimizers import Adam\n",
    "from keras.callbacks import EarlyStopping\n",
    "from keras.layers.recurrent import GRU\n",
    "from keras.layers import *\n",
    "from keras.utils.vis_utils import plot_model\n",
    "\n",
    "import time"
   ]
  },
  {
   "cell_type": "code",
   "execution_count": 94,
   "metadata": {
    "ExecuteTime": {
     "end_time": "2019-06-09T13:57:30.531184Z",
     "start_time": "2019-06-09T13:57:30.329833Z"
    },
    "code_folding": []
   },
   "outputs": [],
   "source": [
    "class RNN_train():\n",
    "    \"\"\"\n",
    "    RNN  预测完整的 DOSE 分布\n",
    "    200组 数据集，预处理后 输入： 200*240 输出： 200*240\n",
    "    4 种模型选择 ， LSTM ，BiLSTM，GRU， BiGRU \n",
    "    \"\"\"\n",
    "\n",
    "    def __init__(self):\n",
    "        self.UNITS = 32  # Units 数目\n",
    "        self.EPOCHS = 200  # 训练循环数目\n",
    "        self.TEST_SIZE = 0.2  # 数据集分割比例\n",
    "        self.VAL = 0.2  # val 分割比例\n",
    "        self.BATCH_SIZE = 32  # 一次训练多少组\n",
    "        self.seed = 1340  # 随机数种子\n",
    "        self.PATIENCE = 30  # 允许不降落步数\n",
    "        self.OUTPUT_SIZE = 1  # 输入一个 输出 1个\n",
    "        self.LR = 0.006  # 误差期望\n",
    "        self.filepath1 = 'train_3.xlsx'  # 文件路径\n",
    "        self.filepath2 = \"Dose_inter_slinear.xlsx\"\n",
    "\n",
    "    def data_pre(self):\n",
    "        \"\"\"\n",
    "        数据预处理 \n",
    "        \"\"\"\n",
    "        df = pd.read_excel(self.filepath1)  # 读取文件\n",
    "        training_set = DataFrame(df)\n",
    "        training_set = training_set.T\n",
    "        \n",
    "        ct = pd.read_excel(self.filepath2,header= None)\n",
    "        ct = np.array(ct)\n",
    "        ct = ct[:,:250]\n",
    "\n",
    "        X_train_0 = training_set.iloc[:, :302].values\n",
    "        y_train_0 = training_set.iloc[:, 302:].values\n",
    "        X_train_0 = X_train_0[:, :250]\n",
    "        y_train_0 = y_train_0[:, :250]  # 修建 0 值\n",
    "        \n",
    "        \n",
    "        X_train_total = np.zeros((200,250,2))\n",
    "        for i in range(200):\n",
    "            X_train_total[i,:,0] = X_train_0[i,:]\n",
    "        for i in range(200):\n",
    "            X_train_total[i,:,1] = ct[i%10,:]\n",
    "\n",
    "        from sklearn.model_selection import train_test_split\n",
    "        X_train, X_test, y_train, y_test = train_test_split(\n",
    "            X_train_total,\n",
    "            y_train_0,\n",
    "            test_size=self.TEST_SIZE,\n",
    "            random_state=self.seed)\n",
    "\n",
    "        #X_train = np.reshape(X_train, (X_train.shape[0], X_train.shape[1], 1))\n",
    "        y_train = np.reshape(y_train, (y_train.shape[0], y_train.shape[1], 1))\n",
    "        #X_test = np.reshape(X_test, (X_test.shape[0], X_test.shape[1], 1))\n",
    "        y_test = np.reshape(y_test, (y_test.shape[0], y_test.shape[1], 1))\n",
    "\n",
    "        return X_train, y_train, X_test, y_test, X_train_total, y_train_0\n",
    "\n",
    "    def LSTM_model(self):\n",
    "        \"\"\"\n",
    "        构建 单层双向 GRU 模型 \n",
    "        \"\"\"\n",
    "        model = Sequential()\n",
    "        model.add(\n",
    "            GRU(\n",
    "                input_shape=(250, 2),\n",
    "                units=self.UNITS,\n",
    "                return_sequences=True,\n",
    "                name=\"GRU\"))\n",
    "\n",
    "        #model.add(Dropout(0.10, name=\"dropout\"))\n",
    "        model.add(GRU(units=self.UNITS, return_sequences=True, name=\"GRU_2\"))\n",
    "        model.add(\n",
    "            TimeDistributed(\n",
    "                Dense(self.OUTPUT_SIZE, name=\"Dense\"), name=\"TDense\"))\n",
    "        adam = Adam(self.LR)\n",
    "        model.compile(\n",
    "            optimizer=adam,\n",
    "            loss='mse',\n",
    "        )\n",
    "        return model\n",
    "    \n",
    "    def BiLSTM_model(self):\n",
    "        \"\"\"\n",
    "        构建 单层双向 GRU 模型 \n",
    "        \"\"\"\n",
    "        model = Sequential()\n",
    "        model.add(\n",
    "            Bidirectional(LSTM(\n",
    "                input_shape=(250, 2),\n",
    "                units=self.UNITS,\n",
    "                return_sequences=True,\n",
    "                name=\"GRU_1\"),name =\"BiGRU_1\"))\n",
    "\n",
    "        #model.add(Dropout(0.10, name=\"dropout_2\"))\n",
    "        \n",
    "        \n",
    "        model.add(\n",
    "            Bidirectional(LSTM(\n",
    "                input_shape=(250, 2),\n",
    "                units=self.UNITS,\n",
    "                return_sequences=True,\n",
    "                name=\"GRU_3\"),name =\"BiGRU_3\"))\n",
    "        model.add(\n",
    "            TimeDistributed(\n",
    "                Dense(self.OUTPUT_SIZE, name=\"Dense\"), name=\"TDense\"))\n",
    "        adam = Adam(self.LR)\n",
    "        model.compile(\n",
    "            optimizer=adam,\n",
    "            loss='mse',\n",
    "        )\n",
    "        return model\n",
    "\n",
    "\n",
    "    def LSTM_model_2(self):\n",
    "        \"\"\"\n",
    "        构建 2层双向 GRU 模型 \n",
    "        \"\"\"\n",
    "        model = Sequential()\n",
    "        model.add(\n",
    "            LSTM(\n",
    "                input_shape=(250, 1),\n",
    "                units=self.UNITS,\n",
    "                return_sequences=True,\n",
    "                name=\"GRU_1\"))\n",
    "\n",
    "        model.add(Dropout(0.50, name=\"dropout_1\"))\n",
    "        model.add(LSTM(units=self.UNITS, return_sequences=True, name=\"GRU_2\"))\n",
    "        model.add(Dropout(0.50, name=\"dropout_2\"))\n",
    "        model.add(\n",
    "            TimeDistributed(\n",
    "                Dense(self.OUTPUT_SIZE, name=\"Dense\"), name=\"TDense\"))\n",
    "        adam = Adam(self.LR)\n",
    "        model.compile(\n",
    "            optimizer=adam,\n",
    "            loss='mse',\n",
    "        )\n",
    "        return model\n",
    "\n",
    "    def LSTM_model_3(self):\n",
    "        \"\"\"\n",
    "        构建 3 层双向 GRU 模型 \n",
    "        \"\"\"\n",
    "        model = Sequential()\n",
    "        model.add(\n",
    "            LSTM(\n",
    "                input_shape=(250, 1),\n",
    "                units=self.UNITS,\n",
    "                return_sequences=True,\n",
    "                name=\"GRU_1\"))\n",
    "\n",
    "        model.add(Dropout(0.50, name=\"dropout_1\"))\n",
    "        model.add(GRU(units=self.UNITS, return_sequences=True, name=\"GRU_2\"))\n",
    "        model.add(Dropout(0.50, name=\"dropout_2\"))\n",
    "        model.add(GRU(units=self.UNITS, return_sequences=True, name=\"GRU_3\"))\n",
    "        model.add(Dropout(0.50, name=\"dropout_3\"))\n",
    "        model.add(\n",
    "            TimeDistributed(\n",
    "                Dense(self.OUTPUT_SIZE, name=\"Dense\"), name=\"TDense\"))\n",
    "        adam = Adam(self.LR)\n",
    "        model.compile(\n",
    "            optimizer=adam,\n",
    "            loss='mse',\n",
    "        )\n",
    "        return model\n",
    "\n",
    "    def LSTM_model_4(self):\n",
    "        \"\"\"\n",
    "        构建 4 层双向 GRU 模型 \n",
    "        \"\"\"\n",
    "        model = Sequential()\n",
    "        model.add(\n",
    "            LSTM(\n",
    "                input_shape=(250, 1),\n",
    "                units=self.UNITS,\n",
    "                return_sequences=True,\n",
    "                name=\"GRU_1\"))\n",
    "\n",
    "        model.add(Dropout(0.50, name=\"dropout_1\"))\n",
    "        model.add(LSTM(units=self.UNITS, return_sequences=True, name=\"GRU_2\"))\n",
    "        model.add(Dropout(0.50, name=\"dropout_2\"))\n",
    "        model.add(LSTM(units=self.UNITS, return_sequences=True, name=\"GRU_3\"))\n",
    "        model.add(Dropout(0.50, name=\"dropout_3\"))\n",
    "        model.add(LSTM(units=self.UNITS, return_sequences=True, name=\"GRU_4\"))\n",
    "        model.add(Dropout(0.50, name=\"dropout_4\"))\n",
    "        model.add(\n",
    "            TimeDistributed(\n",
    "                Dense(self.OUTPUT_SIZE, name=\"Dense\"), name=\"TDense\"))\n",
    "        adam = Adam(self.LR)\n",
    "        model.compile(\n",
    "            optimizer=adam,\n",
    "            loss='mse',\n",
    "        )\n",
    "        return model\n",
    "\n",
    "    def LSTM_model_5(self):\n",
    "        \"\"\"\n",
    "        构建 5 层双向 GRU 模型 \n",
    "        \"\"\"\n",
    "        model = Sequential()\n",
    "        model.add(\n",
    "            LSTM(\n",
    "                input_shape=(250, 1),\n",
    "                units=self.UNITS,\n",
    "                return_sequences=True,\n",
    "                name=\"GRU_1\"))\n",
    "\n",
    "        model.add(Dropout(0.50, name=\"dropout_1\"))\n",
    "        model.add(LSTM(units=self.UNITS, return_sequences=True, name=\"GRU_2\"))\n",
    "        model.add(Dropout(0.50, name=\"dropout_2\"))\n",
    "        model.add(LSTM(units=self.UNITS, return_sequences=True, name=\"GRU_3\"))\n",
    "        model.add(Dropout(0.50, name=\"dropout_3\"))\n",
    "        model.add(LSTM(units=self.UNITS, return_sequences=True, name=\"GRU_4\"))\n",
    "        model.add(Dropout(0.50, name=\"dropout_4\"))\n",
    "        model.add(LSTM(units=self.UNITS, return_sequences=True, name=\"GRU_5\"))\n",
    "        model.add(Dropout(0.50, name=\"dropout_5\"))\n",
    "        model.add(\n",
    "            TimeDistributed(\n",
    "                Dense(self.OUTPUT_SIZE, name=\"Dense\"), name=\"TDense\"))\n",
    "        adam = Adam(self.LR)\n",
    "        model.compile(\n",
    "            optimizer=adam,\n",
    "            loss='mse',\n",
    "        )\n",
    "        return model\n",
    "\n",
    "    def model_train(self, model):\n",
    "        \"\"\"\n",
    "        训练模型， 输入 compile 之后的模型 ，返回训练的模型\n",
    "        \"\"\"\n",
    "        X_train, y_train, X_test, y_test, _, _ = self.data_pre()\n",
    "        early_stopping = EarlyStopping(\n",
    "            monitor='val_loss', patience=self.PATIENCE, verbose=0, mode='min')\n",
    "        history = model.fit(\n",
    "            X_train,\n",
    "            y_train,\n",
    "            batch_size=self.BATCH_SIZE,\n",
    "            epochs=self.EPOCHS,\n",
    "            verbose=1,\n",
    "            validation_split=self.VAL,  # 加入 交叉验证集\n",
    "            callbacks=[early_stopping])\n",
    "\n",
    "        return history, model\n",
    "\n",
    "    def train_plot(self, history):\n",
    "        \"\"\"\n",
    "        绘制 训练的 loss 和 val_loss 图\n",
    "        \"\"\"\n",
    "        plt.figure(figsize=(20, 10))\n",
    "        plt.plot(history.history['loss'])\n",
    "        plt.plot(history.history['val_loss'])\n",
    "        plt.ylabel(\"loss\", fontsize=30)\n",
    "        plt.xlabel(\"epoch\", fontsize=30)\n",
    "        plt.legend([\"train_loss\", \"val_loss\"], loc=\"upper right\")\n",
    "        plt.show()\n",
    "\n",
    "    def loss_cal(self, model):\n",
    "        \"\"\"\n",
    "        计算 评估模型的指标  \n",
    "        输入训练好的模型\n",
    "        \"\"\"\n",
    "        X_train, y_train, X_test, y_test, _, _ = self.data_pre()\n",
    "        N = X_test.shape[0]  # 测试数据的数目\n",
    "\n",
    "        test_loss_total = []\n",
    "        peak_loss_total = []\n",
    "        peak_shift_total = []\n",
    "        peak_half_loss_list = []\n",
    "        peak_twenty_percent_loss_list = []\n",
    "\n",
    "        for i in range(N):\n",
    "\n",
    "            X_test[i] = np.array(X_test[i], dtype=float)\n",
    "            y_test[i] = np.array(y_test[i], dtype=float)\n",
    "            X_test_0 = X_test[i][np.newaxis, :, :]\n",
    "            y_test_0 = y_test[i][np.newaxis, :, :]\n",
    "\n",
    "            # 计算 测试集总误差\n",
    "\n",
    "            y_test_0_pred = model.predict(X_test_0)\n",
    "            test_loss = np.mean(np.square(y_test_0_pred - y_test_0))\n",
    "            test_loss_total.append(test_loss)\n",
    "\n",
    "            x_pre = model.predict(X_test_0)\n",
    "            x_pre = x_pre.ravel()  # 调整形状\n",
    "            x_pre = np.array(x_pre, dtype=np.float64)  # 调整 数据\n",
    "            x_real = y_test_0.ravel()\n",
    "\n",
    "            # 计算测试集 peak 偏移\n",
    "            peak_shift = abs(np.argmax(x_real) - np.argmax(x_pre))\n",
    "            peak_shift_total.append(peak_shift)\n",
    "\n",
    "            # 转换为列表\n",
    "            x_real_list = x_real.tolist()\n",
    "            x_pre_list = x_pre.tolist()\n",
    "\n",
    "            # 计算 测试集 距离峰值一半的偏差\n",
    "            half_peak = x_real.max() * 0.5\n",
    "            for j in x_real[:np.argmax(x_real)]:\n",
    "                if j > half_peak or j == half_peak:\n",
    "                    index_l1 = x_real_list.index(j)\n",
    "                    break\n",
    "            for j in x_real[np.argmax(x_real):]:\n",
    "                if j < half_peak or j == half_peak:\n",
    "                    index_r1 = x_real_list[np.argmax(x_real):].index(\n",
    "                        j) + np.argmax(x_real)\n",
    "                    break\n",
    "\n",
    "            half_loss = [\n",
    "                abs(x_real_list[i] - x_pre_list[i])\n",
    "                for i in range(index_l1, index_r1)\n",
    "            ]\n",
    "            peak_half_loss = np.mean(np.square(half_loss))\n",
    "            peak_half_loss_list.append(peak_half_loss)\n",
    "\n",
    "            # 计算距离峰值 20% 的偏差\n",
    "            twenty_percent_peak = x_real.max() * 0.2\n",
    "            for i in x_real[:np.argmax(x_real)]:\n",
    "                if i > twenty_percent_peak or i == twenty_percent_peak:\n",
    "                    index_l2 = x_real_list.index(i)\n",
    "                    break\n",
    "\n",
    "            for i in x_real[np.argmax(x_real):]:\n",
    "                if i < twenty_percent_peak or i == twenty_percent_peak:\n",
    "                    index_r2 = x_real_list[np.argmax(x_real):].index(\n",
    "                        i) + np.argmax(x_real)\n",
    "                    break\n",
    "            twenty_percent_loss = [\n",
    "                abs(x_real_list[i] - x_pre_list[i])\n",
    "                for i in range(index_l2, index_r2)\n",
    "            ]\n",
    "            peak_twenty_percent_loss = np.mean(np.square(twenty_percent_loss))\n",
    "            peak_twenty_percent_loss_list.append(peak_twenty_percent_loss)\n",
    "\n",
    "            i = i + 1\n",
    "\n",
    "        peak_shift_MAE = np.mean(peak_shift_total)\n",
    "        peak_shift_MSE = np.mean(np.square(peak_shift_total))\n",
    "        peak_twenty_percent_loss_ave = np.mean(peak_twenty_percent_loss_list)\n",
    "        peak_half_loss_ave = np.mean(peak_half_loss_list)\n",
    "        test_loss_total_ave = np.mean(test_loss_total)\n",
    "\n",
    "        return peak_shift_MAE, peak_shift_MSE, test_loss_total_ave,peak_half_loss_ave, peak_twenty_percent_loss_ave\n",
    "\n",
    "    def curve_shift(self, model):\n",
    "\n",
    "        X_train, y_train, X_test, y_test, _, _ = self.data_pre()\n",
    "\n",
    "        per_average_total = []\n",
    "        per50_average_total = []\n",
    "        per20_average_total = []\n",
    "        N = X_test.shape[0]\n",
    "\n",
    "        for i in range(N):\n",
    "            X_test[i] = np.array(X_test[i], dtype=float)\n",
    "            y_test[i] = np.array(y_test[i], dtype=float)\n",
    "            X_test_0 = X_test[i][np.newaxis, :, :]\n",
    "            y_test_0 = y_test[i][np.newaxis, :, :]\n",
    "\n",
    "            x_pre = model.predict(X_test_0, batch_size=1, verbose=0)\n",
    "            x_pre = x_pre.ravel()  # 调整形状\n",
    "            x_pre = np.array(x_pre, dtype=np.float64)  # 调整 数据\n",
    "            x_real = y_test_0.ravel()\n",
    "\n",
    "            # 计算曲线的 总偏移\n",
    "            #curve_shift = x_real - x_pre\n",
    "            per_list = []\n",
    "            n = 0\n",
    "            for i in range(240):\n",
    "                if x_real[i] > 1e-3:\n",
    "                    n = n + 1\n",
    "                    a = abs(x_real[i] - x_pre[i]) / x_real[i]\n",
    "                    per_list.append(a)\n",
    "            per_average = sum(per_list) / n\n",
    "            per_average_total.append(per_average)\n",
    "\n",
    "            # 计算曲线的半高偏移\n",
    "\n",
    "            # 转换为列表\n",
    "            x_real_list = x_real.tolist()\n",
    "            x_pre_list = x_pre.tolist()\n",
    "\n",
    "            # 计算 测试集 距离峰值一半的偏差\n",
    "            half_peak = x_real.max() * 0.5\n",
    "            for j in x_real[:np.argmax(x_real)]:\n",
    "                if j > half_peak or j == half_peak:\n",
    "                    index_l1 = x_real_list.index(j)\n",
    "                    break\n",
    "            for j in x_real[np.argmax(x_real):]:\n",
    "                if j < half_peak or j == half_peak:\n",
    "                    index_r1 = x_real_list[np.argmax(x_real):].index(\n",
    "                        j) + np.argmax(x_real)\n",
    "                    break\n",
    "\n",
    "            per50_list = [\n",
    "                abs(x_real_list[i] - x_pre_list[i]) / x_real_list[i]\n",
    "                for i in range(index_l1, index_r1)\n",
    "            ]\n",
    "\n",
    "            per50_average = sum(per50_list) / (index_r1 - index_l1)\n",
    "            per50_average_total.append(per50_average)\n",
    "\n",
    "            # 计算距离峰值 20% 的偏差\n",
    "            twenty_percent_peak = x_real.max() * 0.2\n",
    "            for i in x_real[:np.argmax(x_real)]:\n",
    "                if i > twenty_percent_peak or i == twenty_percent_peak:\n",
    "                    index_l2 = x_real_list.index(i)\n",
    "                    break\n",
    "\n",
    "            for i in x_real[np.argmax(x_real):]:\n",
    "                if i < twenty_percent_peak or i == twenty_percent_peak:\n",
    "                    index_r2 = x_real_list[np.argmax(x_real):].index(\n",
    "                        i) + np.argmax(x_real)\n",
    "                    break\n",
    "            per20_list = [\n",
    "                abs(x_real_list[i] - x_pre_list[i]) / x_real_list[i]\n",
    "                for i in range(index_l2, index_r2)\n",
    "            ]\n",
    "\n",
    "            per20_average = sum(per20_list) / (index_r2 - index_l2)\n",
    "            per20_average_total.append(per20_average)\n",
    "\n",
    "            i = i + 1\n",
    "\n",
    "        per100 = sum(per_average_total) / N\n",
    "        per50 = sum(per50_average_total) / N\n",
    "        per20 = sum(per20_average_total) / N\n",
    "\n",
    "        return per100, per50, per20"
   ]
  },
  {
   "cell_type": "code",
   "execution_count": 95,
   "metadata": {
    "ExecuteTime": {
     "end_time": "2019-06-09T14:03:33.741004Z",
     "start_time": "2019-06-09T13:57:33.131275Z"
    }
   },
   "outputs": [
    {
     "name": "stdout",
     "output_type": "stream",
     "text": [
      "Train on 128 samples, validate on 32 samples\n",
      "Epoch 1/200\n",
      "128/128 [==============================] - 7s 54ms/step - loss: 0.2576 - val_loss: 0.1474\n",
      "Epoch 2/200\n",
      "128/128 [==============================] - 1s 12ms/step - loss: 0.1212 - val_loss: 0.0460\n",
      "Epoch 3/200\n",
      "128/128 [==============================] - 2s 12ms/step - loss: 0.0569 - val_loss: 0.0679\n",
      "Epoch 4/200\n",
      "128/128 [==============================] - 2s 12ms/step - loss: 0.0516 - val_loss: 0.0396\n",
      "Epoch 5/200\n",
      "128/128 [==============================] - 1s 11ms/step - loss: 0.0453 - val_loss: 0.0447\n",
      "Epoch 6/200\n",
      "128/128 [==============================] - 1s 11ms/step - loss: 0.0426 - val_loss: 0.0388\n",
      "Epoch 7/200\n",
      "128/128 [==============================] - 1s 11ms/step - loss: 0.0397 - val_loss: 0.0437\n",
      "Epoch 8/200\n",
      "128/128 [==============================] - 1s 11ms/step - loss: 0.0400 - val_loss: 0.0375\n",
      "Epoch 9/200\n",
      "128/128 [==============================] - 2s 12ms/step - loss: 0.0369 - val_loss: 0.0360\n",
      "Epoch 10/200\n",
      "128/128 [==============================] - 1s 12ms/step - loss: 0.0373 - val_loss: 0.0383\n",
      "Epoch 11/200\n",
      "128/128 [==============================] - 2s 12ms/step - loss: 0.0366 - val_loss: 0.0359\n",
      "Epoch 12/200\n",
      "128/128 [==============================] - 2s 12ms/step - loss: 0.0348 - val_loss: 0.0350\n",
      "Epoch 13/200\n",
      "128/128 [==============================] - 2s 12ms/step - loss: 0.0344 - val_loss: 0.0347\n",
      "Epoch 14/200\n",
      "128/128 [==============================] - 1s 12ms/step - loss: 0.0352 - val_loss: 0.0363\n",
      "Epoch 15/200\n",
      "128/128 [==============================] - 1s 12ms/step - loss: 0.0348 - val_loss: 0.0353\n",
      "Epoch 16/200\n",
      "128/128 [==============================] - 1s 11ms/step - loss: 0.0335 - val_loss: 0.0346\n",
      "Epoch 17/200\n",
      "128/128 [==============================] - 1s 11ms/step - loss: 0.0329 - val_loss: 0.0341\n",
      "Epoch 18/200\n",
      "128/128 [==============================] - 1s 11ms/step - loss: 0.0317 - val_loss: 0.0342\n",
      "Epoch 19/200\n",
      "128/128 [==============================] - 1s 11ms/step - loss: 0.0307 - val_loss: 0.0329\n",
      "Epoch 20/200\n",
      "128/128 [==============================] - 1s 11ms/step - loss: 0.0292 - val_loss: 0.0313\n",
      "Epoch 21/200\n",
      "128/128 [==============================] - 2s 12ms/step - loss: 0.0271 - val_loss: 0.0279\n",
      "Epoch 22/200\n",
      "128/128 [==============================] - 2s 12ms/step - loss: 0.0253 - val_loss: 0.0254\n",
      "Epoch 23/200\n",
      "128/128 [==============================] - 2s 12ms/step - loss: 0.0223 - val_loss: 0.0223\n",
      "Epoch 24/200\n",
      "128/128 [==============================] - 1s 11ms/step - loss: 0.0212 - val_loss: 0.0215\n",
      "Epoch 25/200\n",
      "128/128 [==============================] - 1s 11ms/step - loss: 0.0229 - val_loss: 0.0243\n",
      "Epoch 26/200\n",
      "128/128 [==============================] - 1s 11ms/step - loss: 0.0185 - val_loss: 0.0169\n",
      "Epoch 27/200\n",
      "128/128 [==============================] - 1s 11ms/step - loss: 0.0166 - val_loss: 0.0173\n",
      "Epoch 28/200\n",
      "128/128 [==============================] - 1s 11ms/step - loss: 0.0154 - val_loss: 0.0148\n",
      "Epoch 29/200\n",
      "128/128 [==============================] - 1s 11ms/step - loss: 0.0137 - val_loss: 0.0149\n",
      "Epoch 30/200\n",
      "128/128 [==============================] - 1s 11ms/step - loss: 0.0149 - val_loss: 0.0211\n",
      "Epoch 31/200\n",
      "128/128 [==============================] - 1s 11ms/step - loss: 0.0165 - val_loss: 0.0188\n",
      "Epoch 32/200\n",
      "128/128 [==============================] - 1s 11ms/step - loss: 0.0175 - val_loss: 0.0190\n",
      "Epoch 33/200\n",
      "128/128 [==============================] - 1s 11ms/step - loss: 0.0155 - val_loss: 0.0163\n",
      "Epoch 34/200\n",
      "128/128 [==============================] - 1s 11ms/step - loss: 0.0138 - val_loss: 0.0146\n",
      "Epoch 35/200\n",
      "128/128 [==============================] - 1s 11ms/step - loss: 0.0140 - val_loss: 0.0133\n",
      "Epoch 36/200\n",
      "128/128 [==============================] - 1s 11ms/step - loss: 0.0125 - val_loss: 0.0130\n",
      "Epoch 37/200\n",
      "128/128 [==============================] - 1s 11ms/step - loss: 0.0130 - val_loss: 0.0115\n",
      "Epoch 38/200\n",
      "128/128 [==============================] - 1s 11ms/step - loss: 0.0147 - val_loss: 0.0118\n",
      "Epoch 39/200\n",
      "128/128 [==============================] - 1s 11ms/step - loss: 0.0130 - val_loss: 0.0135\n",
      "Epoch 40/200\n",
      "128/128 [==============================] - 1s 11ms/step - loss: 0.0117 - val_loss: 0.0132\n",
      "Epoch 41/200\n",
      "128/128 [==============================] - 1s 11ms/step - loss: 0.0118 - val_loss: 0.0124\n",
      "Epoch 42/200\n",
      "128/128 [==============================] - 1s 11ms/step - loss: 0.0111 - val_loss: 0.0133\n",
      "Epoch 43/200\n",
      "128/128 [==============================] - 1s 11ms/step - loss: 0.0111 - val_loss: 0.0134\n",
      "Epoch 44/200\n",
      "128/128 [==============================] - 1s 11ms/step - loss: 0.0107 - val_loss: 0.0124\n",
      "Epoch 45/200\n",
      "128/128 [==============================] - 1s 12ms/step - loss: 0.0101 - val_loss: 0.0103\n",
      "Epoch 46/200\n",
      "128/128 [==============================] - 2s 13ms/step - loss: 0.0085 - val_loss: 0.0097\n",
      "Epoch 47/200\n",
      "128/128 [==============================] - 2s 14ms/step - loss: 0.0081 - val_loss: 0.0090\n",
      "Epoch 48/200\n",
      "128/128 [==============================] - 1s 12ms/step - loss: 0.0081 - val_loss: 0.0085\n",
      "Epoch 49/200\n",
      "128/128 [==============================] - 1s 11ms/step - loss: 0.0128 - val_loss: 0.0156\n",
      "Epoch 50/200\n",
      "128/128 [==============================] - 1s 11ms/step - loss: 0.0178 - val_loss: 0.0136\n",
      "Epoch 51/200\n",
      "128/128 [==============================] - 1s 11ms/step - loss: 0.0162 - val_loss: 0.0218\n",
      "Epoch 52/200\n",
      "128/128 [==============================] - 1s 11ms/step - loss: 0.0188 - val_loss: 0.0164\n",
      "Epoch 53/200\n",
      "128/128 [==============================] - 1s 11ms/step - loss: 0.0131 - val_loss: 0.0150\n",
      "Epoch 54/200\n",
      "128/128 [==============================] - 1s 11ms/step - loss: 0.0135 - val_loss: 0.0124\n",
      "Epoch 55/200\n",
      "128/128 [==============================] - 1s 11ms/step - loss: 0.0101 - val_loss: 0.0106\n",
      "Epoch 56/200\n",
      "128/128 [==============================] - 1s 11ms/step - loss: 0.0097 - val_loss: 0.0099\n",
      "Epoch 57/200\n",
      "128/128 [==============================] - 1s 11ms/step - loss: 0.0091 - val_loss: 0.0111\n",
      "Epoch 58/200\n",
      "128/128 [==============================] - 1s 11ms/step - loss: 0.0087 - val_loss: 0.0100\n",
      "Epoch 59/200\n",
      "128/128 [==============================] - 2s 14ms/step - loss: 0.0087 - val_loss: 0.0087\n",
      "Epoch 60/200\n",
      "128/128 [==============================] - 2s 18ms/step - loss: 0.0080 - val_loss: 0.0078\n",
      "Epoch 61/200\n",
      "128/128 [==============================] - 3s 20ms/step - loss: 0.0082 - val_loss: 0.0074\n",
      "Epoch 62/200\n",
      "128/128 [==============================] - 2s 13ms/step - loss: 0.0069 - val_loss: 0.0081\n",
      "Epoch 63/200\n",
      "128/128 [==============================] - 2s 14ms/step - loss: 0.0076 - val_loss: 0.0090\n",
      "Epoch 64/200\n",
      "128/128 [==============================] - 2s 15ms/step - loss: 0.0082 - val_loss: 0.0098\n",
      "Epoch 65/200\n",
      "128/128 [==============================] - 2s 13ms/step - loss: 0.0071 - val_loss: 0.0071\n",
      "Epoch 66/200\n",
      "128/128 [==============================] - 1s 11ms/step - loss: 0.0064 - val_loss: 0.0064\n",
      "Epoch 67/200\n",
      "128/128 [==============================] - 1s 11ms/step - loss: 0.0058 - val_loss: 0.0056\n",
      "Epoch 68/200\n",
      "128/128 [==============================] - 1s 12ms/step - loss: 0.0051 - val_loss: 0.0048\n",
      "Epoch 69/200\n",
      "128/128 [==============================] - 1s 11ms/step - loss: 0.0051 - val_loss: 0.0095\n",
      "Epoch 70/200\n",
      "128/128 [==============================] - 1s 11ms/step - loss: 0.0078 - val_loss: 0.0074\n",
      "Epoch 71/200\n",
      "128/128 [==============================] - 1s 11ms/step - loss: 0.0063 - val_loss: 0.0047\n",
      "Epoch 72/200\n",
      "128/128 [==============================] - 1s 11ms/step - loss: 0.0046 - val_loss: 0.0051\n",
      "Epoch 73/200\n",
      "128/128 [==============================] - 1s 11ms/step - loss: 0.0058 - val_loss: 0.0061\n",
      "Epoch 74/200\n",
      "128/128 [==============================] - 1s 11ms/step - loss: 0.0063 - val_loss: 0.0040\n",
      "Epoch 75/200\n",
      "128/128 [==============================] - 1s 11ms/step - loss: 0.0069 - val_loss: 0.0046\n",
      "Epoch 76/200\n",
      "128/128 [==============================] - 2s 14ms/step - loss: 0.0075 - val_loss: 0.0073\n",
      "Epoch 77/200\n",
      "128/128 [==============================] - 1s 12ms/step - loss: 0.0062 - val_loss: 0.0053\n",
      "Epoch 78/200\n",
      "128/128 [==============================] - 2s 13ms/step - loss: 0.0052 - val_loss: 0.0039\n",
      "Epoch 79/200\n",
      "128/128 [==============================] - 2s 14ms/step - loss: 0.0043 - val_loss: 0.0051\n",
      "Epoch 80/200\n"
     ]
    },
    {
     "name": "stdout",
     "output_type": "stream",
     "text": [
      "128/128 [==============================] - 1s 12ms/step - loss: 0.0039 - val_loss: 0.0033\n",
      "Epoch 81/200\n",
      "128/128 [==============================] - 2s 13ms/step - loss: 0.0035 - val_loss: 0.0031\n",
      "Epoch 82/200\n",
      "128/128 [==============================] - 2s 14ms/step - loss: 0.0030 - val_loss: 0.0029\n",
      "Epoch 83/200\n",
      "128/128 [==============================] - 2s 12ms/step - loss: 0.0029 - val_loss: 0.0027\n",
      "Epoch 84/200\n",
      "128/128 [==============================] - 2s 13ms/step - loss: 0.0026 - val_loss: 0.0026\n",
      "Epoch 85/200\n",
      "128/128 [==============================] - 2s 15ms/step - loss: 0.0028 - val_loss: 0.0039\n",
      "Epoch 86/200\n",
      "128/128 [==============================] - 2s 12ms/step - loss: 0.0067 - val_loss: 0.0090\n",
      "Epoch 87/200\n",
      "128/128 [==============================] - 1s 11ms/step - loss: 0.0064 - val_loss: 0.0046\n",
      "Epoch 88/200\n",
      "128/128 [==============================] - 1s 11ms/step - loss: 0.0046 - val_loss: 0.0035\n",
      "Epoch 89/200\n",
      "128/128 [==============================] - 1s 11ms/step - loss: 0.0034 - val_loss: 0.0033\n",
      "Epoch 90/200\n",
      "128/128 [==============================] - 1s 11ms/step - loss: 0.0030 - val_loss: 0.0029\n",
      "Epoch 91/200\n",
      "128/128 [==============================] - 1s 11ms/step - loss: 0.0025 - val_loss: 0.0028\n",
      "Epoch 92/200\n",
      "128/128 [==============================] - 1s 11ms/step - loss: 0.0024 - val_loss: 0.0023\n",
      "Epoch 93/200\n",
      "128/128 [==============================] - 1s 11ms/step - loss: 0.0021 - val_loss: 0.0023\n",
      "Epoch 94/200\n",
      "128/128 [==============================] - 1s 12ms/step - loss: 0.0020 - val_loss: 0.0021\n",
      "Epoch 95/200\n",
      "128/128 [==============================] - 2s 12ms/step - loss: 0.0019 - val_loss: 0.0020\n",
      "Epoch 96/200\n",
      "128/128 [==============================] - 2s 14ms/step - loss: 0.0020 - val_loss: 0.0025\n",
      "Epoch 97/200\n",
      "128/128 [==============================] - 2s 14ms/step - loss: 0.0023 - val_loss: 0.0022\n",
      "Epoch 98/200\n",
      "128/128 [==============================] - 2s 12ms/step - loss: 0.0022 - val_loss: 0.0017\n",
      "Epoch 99/200\n",
      "128/128 [==============================] - 2s 12ms/step - loss: 0.0017 - val_loss: 0.0018\n",
      "Epoch 100/200\n",
      "128/128 [==============================] - 2s 15ms/step - loss: 0.0018 - val_loss: 0.0021\n",
      "Epoch 101/200\n",
      "128/128 [==============================] - 2s 19ms/step - loss: 0.0033 - val_loss: 0.0044\n",
      "Epoch 102/200\n",
      "128/128 [==============================] - 2s 18ms/step - loss: 0.0037 - val_loss: 0.0046\n",
      "Epoch 103/200\n",
      "128/128 [==============================] - 3s 25ms/step - loss: 0.0051 - val_loss: 0.0039\n",
      "Epoch 104/200\n",
      "128/128 [==============================] - 3s 20ms/step - loss: 0.0033 - val_loss: 0.0028\n",
      "Epoch 105/200\n",
      "128/128 [==============================] - 3s 20ms/step - loss: 0.0026 - val_loss: 0.0021\n",
      "Epoch 106/200\n",
      "128/128 [==============================] - 3s 21ms/step - loss: 0.0019 - val_loss: 0.0017\n",
      "Epoch 107/200\n",
      "128/128 [==============================] - 2s 19ms/step - loss: 0.0016 - val_loss: 0.0018\n",
      "Epoch 108/200\n",
      "128/128 [==============================] - 4s 35ms/step - loss: 0.0015 - val_loss: 0.0016\n",
      "Epoch 109/200\n",
      "128/128 [==============================] - 3s 22ms/step - loss: 0.0014 - val_loss: 0.0016\n",
      "Epoch 110/200\n",
      "128/128 [==============================] - 3s 23ms/step - loss: 0.0013 - val_loss: 0.0015\n",
      "Epoch 111/200\n",
      "128/128 [==============================] - 3s 23ms/step - loss: 0.0012 - val_loss: 0.0013\n",
      "Epoch 112/200\n",
      "128/128 [==============================] - 3s 21ms/step - loss: 0.0011 - val_loss: 0.0012\n",
      "Epoch 113/200\n",
      "128/128 [==============================] - 3s 22ms/step - loss: 0.0011 - val_loss: 0.0013\n",
      "Epoch 114/200\n",
      "128/128 [==============================] - 2s 18ms/step - loss: 0.0011 - val_loss: 0.0017\n",
      "Epoch 115/200\n",
      "128/128 [==============================] - 2s 17ms/step - loss: 0.0014 - val_loss: 0.0019\n",
      "Epoch 116/200\n",
      "128/128 [==============================] - 2s 17ms/step - loss: 0.0014 - val_loss: 0.0017\n",
      "Epoch 117/200\n",
      "128/128 [==============================] - 2s 17ms/step - loss: 0.0011 - val_loss: 0.0014\n",
      "Epoch 118/200\n",
      "128/128 [==============================] - 2s 18ms/step - loss: 0.0011 - val_loss: 0.0011\n",
      "Epoch 119/200\n",
      "128/128 [==============================] - 2s 17ms/step - loss: 9.4585e-04 - val_loss: 9.4393e-04\n",
      "Epoch 120/200\n",
      "128/128 [==============================] - 2s 17ms/step - loss: 8.2437e-04 - val_loss: 8.9031e-04\n",
      "Epoch 121/200\n",
      "128/128 [==============================] - 2s 18ms/step - loss: 7.3455e-04 - val_loss: 8.3511e-04\n",
      "Epoch 122/200\n",
      "128/128 [==============================] - 2s 17ms/step - loss: 7.4083e-04 - val_loss: 7.9421e-04\n",
      "Epoch 123/200\n",
      "128/128 [==============================] - 2s 18ms/step - loss: 7.3636e-04 - val_loss: 8.8172e-04\n",
      "Epoch 124/200\n",
      "128/128 [==============================] - 2s 17ms/step - loss: 6.8857e-04 - val_loss: 7.2944e-04\n",
      "Epoch 125/200\n",
      "128/128 [==============================] - 2s 18ms/step - loss: 6.2584e-04 - val_loss: 8.3510e-04\n",
      "Epoch 126/200\n",
      "128/128 [==============================] - 2s 17ms/step - loss: 6.3534e-04 - val_loss: 7.7184e-04\n",
      "Epoch 127/200\n",
      "128/128 [==============================] - 2s 19ms/step - loss: 6.9399e-04 - val_loss: 8.0219e-04\n",
      "Epoch 128/200\n",
      "128/128 [==============================] - 3s 22ms/step - loss: 6.1039e-04 - val_loss: 7.2523e-04\n",
      "Epoch 129/200\n",
      "128/128 [==============================] - 3s 20ms/step - loss: 5.7085e-04 - val_loss: 7.0804e-04\n",
      "Epoch 130/200\n",
      "128/128 [==============================] - 2s 19ms/step - loss: 5.4303e-04 - val_loss: 6.8154e-04\n",
      "Epoch 131/200\n",
      "128/128 [==============================] - 2s 18ms/step - loss: 5.1910e-04 - val_loss: 6.4600e-04\n",
      "Epoch 132/200\n",
      "128/128 [==============================] - 2s 17ms/step - loss: 4.8948e-04 - val_loss: 5.8329e-04\n",
      "Epoch 133/200\n",
      "128/128 [==============================] - 2s 18ms/step - loss: 4.8739e-04 - val_loss: 5.5374e-04\n",
      "Epoch 134/200\n",
      "128/128 [==============================] - 2s 18ms/step - loss: 4.5824e-04 - val_loss: 5.2686e-04\n",
      "Epoch 135/200\n",
      "128/128 [==============================] - 2s 18ms/step - loss: 4.3625e-04 - val_loss: 5.3252e-04\n",
      "Epoch 136/200\n",
      "128/128 [==============================] - 2s 17ms/step - loss: 4.1125e-04 - val_loss: 5.2167e-04\n",
      "Epoch 137/200\n",
      "128/128 [==============================] - 2s 18ms/step - loss: 4.1009e-04 - val_loss: 5.1818e-04\n",
      "Epoch 138/200\n",
      "128/128 [==============================] - 2s 18ms/step - loss: 3.8720e-04 - val_loss: 4.8744e-04\n",
      "Epoch 139/200\n",
      "128/128 [==============================] - 2s 18ms/step - loss: 3.9924e-04 - val_loss: 5.3392e-04\n",
      "Epoch 140/200\n",
      "128/128 [==============================] - 2s 17ms/step - loss: 3.7362e-04 - val_loss: 5.0040e-04\n",
      "Epoch 141/200\n",
      "128/128 [==============================] - 2s 18ms/step - loss: 3.6499e-04 - val_loss: 5.0682e-04\n",
      "Epoch 142/200\n",
      "128/128 [==============================] - 2s 18ms/step - loss: 3.7299e-04 - val_loss: 5.0041e-04\n",
      "Epoch 143/200\n",
      "128/128 [==============================] - 2s 18ms/step - loss: 3.4847e-04 - val_loss: 4.9519e-04\n",
      "Epoch 144/200\n",
      "128/128 [==============================] - 3s 21ms/step - loss: 3.3051e-04 - val_loss: 4.8215e-04\n",
      "Epoch 145/200\n",
      "128/128 [==============================] - 2s 15ms/step - loss: 3.1922e-04 - val_loss: 4.0946e-04\n",
      "Epoch 146/200\n",
      "128/128 [==============================] - 2s 15ms/step - loss: 3.1256e-04 - val_loss: 4.4162e-04\n",
      "Epoch 147/200\n",
      "128/128 [==============================] - 2s 16ms/step - loss: 3.2626e-04 - val_loss: 4.1230e-04\n",
      "Epoch 148/200\n",
      "128/128 [==============================] - 2s 13ms/step - loss: 3.0273e-04 - val_loss: 4.0145e-04\n",
      "Epoch 149/200\n",
      "128/128 [==============================] - 2s 17ms/step - loss: 3.0305e-04 - val_loss: 4.6511e-04\n",
      "Epoch 150/200\n",
      "128/128 [==============================] - 2s 13ms/step - loss: 3.0061e-04 - val_loss: 3.8904e-04\n",
      "Epoch 151/200\n",
      "128/128 [==============================] - 2s 13ms/step - loss: 2.8681e-04 - val_loss: 4.0932e-04\n",
      "Epoch 152/200\n",
      "128/128 [==============================] - 2s 13ms/step - loss: 2.9802e-04 - val_loss: 4.6013e-04\n",
      "Epoch 153/200\n",
      "128/128 [==============================] - 2s 13ms/step - loss: 3.2025e-04 - val_loss: 4.0422e-04\n",
      "Epoch 154/200\n",
      "128/128 [==============================] - 2s 14ms/step - loss: 3.2745e-04 - val_loss: 4.7892e-04\n",
      "Epoch 155/200\n",
      "128/128 [==============================] - 2s 15ms/step - loss: 3.6006e-04 - val_loss: 4.0070e-04\n",
      "Epoch 156/200\n"
     ]
    },
    {
     "name": "stdout",
     "output_type": "stream",
     "text": [
      "128/128 [==============================] - 2s 13ms/step - loss: 3.3985e-04 - val_loss: 6.7839e-04\n",
      "Epoch 157/200\n",
      "128/128 [==============================] - 2s 13ms/step - loss: 4.7333e-04 - val_loss: 6.5528e-04\n",
      "Epoch 158/200\n",
      "128/128 [==============================] - 1s 11ms/step - loss: 6.3387e-04 - val_loss: 4.9928e-04\n",
      "Epoch 159/200\n",
      "128/128 [==============================] - 1s 12ms/step - loss: 5.0733e-04 - val_loss: 4.9366e-04\n",
      "Epoch 160/200\n",
      "128/128 [==============================] - 2s 12ms/step - loss: 4.3255e-04 - val_loss: 4.2091e-04\n",
      "Epoch 161/200\n",
      "128/128 [==============================] - 1s 12ms/step - loss: 3.2952e-04 - val_loss: 4.4808e-04\n",
      "Epoch 162/200\n",
      "128/128 [==============================] - 1s 11ms/step - loss: 2.9734e-04 - val_loss: 3.9899e-04\n",
      "Epoch 163/200\n",
      "128/128 [==============================] - 1s 12ms/step - loss: 2.9247e-04 - val_loss: 3.9379e-04\n",
      "Epoch 164/200\n",
      "128/128 [==============================] - 1s 11ms/step - loss: 3.2120e-04 - val_loss: 4.4644e-04\n",
      "Epoch 165/200\n",
      "128/128 [==============================] - 1s 12ms/step - loss: 3.1369e-04 - val_loss: 3.9318e-04\n",
      "Epoch 166/200\n",
      "128/128 [==============================] - 2s 13ms/step - loss: 2.9417e-04 - val_loss: 3.8279e-04\n",
      "Epoch 167/200\n",
      "128/128 [==============================] - 2s 15ms/step - loss: 2.8439e-04 - val_loss: 5.9558e-04\n",
      "Epoch 168/200\n",
      "128/128 [==============================] - 1s 11ms/step - loss: 3.3579e-04 - val_loss: 4.8132e-04\n",
      "Epoch 169/200\n",
      "128/128 [==============================] - 1s 11ms/step - loss: 3.8349e-04 - val_loss: 5.9781e-04\n",
      "Epoch 170/200\n",
      "128/128 [==============================] - 2s 15ms/step - loss: 3.6284e-04 - val_loss: 4.8777e-04\n",
      "Epoch 171/200\n",
      "128/128 [==============================] - 1s 11ms/step - loss: 3.2617e-04 - val_loss: 4.4295e-04\n",
      "Epoch 172/200\n",
      "128/128 [==============================] - 1s 11ms/step - loss: 2.9686e-04 - val_loss: 3.9947e-04\n",
      "Epoch 173/200\n",
      "128/128 [==============================] - 1s 11ms/step - loss: 2.7832e-04 - val_loss: 3.7900e-04\n",
      "Epoch 174/200\n",
      "128/128 [==============================] - 1s 11ms/step - loss: 2.7666e-04 - val_loss: 4.3273e-04\n",
      "Epoch 175/200\n",
      "128/128 [==============================] - 2s 14ms/step - loss: 2.9246e-04 - val_loss: 4.4721e-04\n",
      "Epoch 176/200\n",
      "128/128 [==============================] - 2s 14ms/step - loss: 2.9502e-04 - val_loss: 4.4965e-04\n",
      "Epoch 177/200\n",
      "128/128 [==============================] - 1s 11ms/step - loss: 2.9808e-04 - val_loss: 5.4959e-04\n",
      "Epoch 178/200\n",
      "128/128 [==============================] - 1s 11ms/step - loss: 3.5107e-04 - val_loss: 3.8642e-04\n",
      "Epoch 179/200\n",
      "128/128 [==============================] - 1s 11ms/step - loss: 3.0789e-04 - val_loss: 3.6022e-04\n",
      "Epoch 180/200\n",
      "128/128 [==============================] - 1s 11ms/step - loss: 2.7226e-04 - val_loss: 5.1338e-04\n",
      "Epoch 181/200\n",
      "128/128 [==============================] - 1s 11ms/step - loss: 2.7117e-04 - val_loss: 3.2816e-04\n",
      "Epoch 182/200\n",
      "128/128 [==============================] - 2s 12ms/step - loss: 2.3009e-04 - val_loss: 3.5684e-04\n",
      "Epoch 183/200\n",
      "128/128 [==============================] - 2s 12ms/step - loss: 2.1256e-04 - val_loss: 3.2372e-04\n",
      "Epoch 184/200\n",
      "128/128 [==============================] - 2s 13ms/step - loss: 2.0680e-04 - val_loss: 3.5109e-04\n",
      "Epoch 185/200\n",
      "128/128 [==============================] - 2s 13ms/step - loss: 1.9253e-04 - val_loss: 3.3040e-04\n",
      "Epoch 186/200\n",
      "128/128 [==============================] - 2s 13ms/step - loss: 1.8431e-04 - val_loss: 3.1377e-04\n",
      "Epoch 187/200\n",
      "128/128 [==============================] - 1s 11ms/step - loss: 1.8508e-04 - val_loss: 3.3271e-04\n",
      "Epoch 188/200\n",
      "128/128 [==============================] - 1s 11ms/step - loss: 1.8312e-04 - val_loss: 3.4519e-04\n",
      "Epoch 189/200\n",
      "128/128 [==============================] - 1s 11ms/step - loss: 2.0181e-04 - val_loss: 3.7435e-04\n",
      "Epoch 190/200\n",
      "128/128 [==============================] - 1s 12ms/step - loss: 2.3041e-04 - val_loss: 3.2389e-04\n",
      "Epoch 191/200\n",
      "128/128 [==============================] - 2s 12ms/step - loss: 2.1067e-04 - val_loss: 3.5849e-04\n",
      "Epoch 192/200\n",
      "128/128 [==============================] - 2s 14ms/step - loss: 2.2942e-04 - val_loss: 3.5138e-04\n",
      "Epoch 193/200\n",
      "128/128 [==============================] - 1s 11ms/step - loss: 2.1359e-04 - val_loss: 3.6005e-04\n",
      "Epoch 194/200\n",
      "128/128 [==============================] - 1s 11ms/step - loss: 2.3792e-04 - val_loss: 3.7228e-04\n",
      "Epoch 195/200\n",
      "128/128 [==============================] - 2s 13ms/step - loss: 2.1655e-04 - val_loss: 3.7079e-04\n",
      "Epoch 196/200\n",
      "128/128 [==============================] - 2s 13ms/step - loss: 2.1254e-04 - val_loss: 3.4423e-04\n",
      "Epoch 197/200\n",
      "128/128 [==============================] - 1s 11ms/step - loss: 2.2883e-04 - val_loss: 2.9781e-04\n",
      "Epoch 198/200\n",
      "128/128 [==============================] - 1s 11ms/step - loss: 2.4189e-04 - val_loss: 3.5823e-04\n",
      "Epoch 199/200\n",
      "128/128 [==============================] - 2s 12ms/step - loss: 2.1756e-04 - val_loss: 3.5345e-04\n",
      "Epoch 200/200\n",
      "128/128 [==============================] - 2s 12ms/step - loss: 1.8434e-04 - val_loss: 2.9709e-04\n"
     ]
    },
    {
     "data": {
      "image/png": "[encoded data removed]",
      "text/plain": [
       "<Figure size 1440x720 with 1 Axes>"
      ]
     },
     "metadata": {
      "needs_background": "light"
     },
     "output_type": "display_data"
    }
   ],
   "source": [
    "if __name__ == '__main__':\n",
    "    RNN = RNN_train()\n",
    "    model = RNN.BiLSTM_model()\n",
    "    history, model = RNN.model_train(model)\n",
    "    RNN.train_plot(history)"
   ]
  },
  {
   "cell_type": "code",
   "execution_count": 96,
   "metadata": {
    "ExecuteTime": {
     "end_time": "2019-06-09T14:03:58.095631Z",
     "start_time": "2019-06-09T14:03:51.904462Z"
    }
   },
   "outputs": [
    {
     "data": {
      "text/plain": [
       "(0.45,\n",
       " 0.5,\n",
       " 0.0002798076996769938,\n",
       " 0.0020121534514598916,\n",
       " 0.0004690314929167428)"
      ]
     },
     "execution_count": 96,
     "metadata": {},
     "output_type": "execute_result"
    }
   ],
   "source": [
    "RNN.loss_cal(model)"
   ]
  },
  {
   "cell_type": "code",
   "execution_count": 98,
   "metadata": {
    "ExecuteTime": {
     "end_time": "2019-06-09T14:05:21.286168Z",
     "start_time": "2019-06-09T14:05:18.902606Z"
    }
   },
   "outputs": [
    {
     "data": {
      "text/plain": [
       "(0.20260387170097136, 0.048113212524699696, 0.03483214846532989)"
      ]
     },
     "execution_count": 98,
     "metadata": {},
     "output_type": "execute_result"
    }
   ],
   "source": [
    "RNN.curve_shift(model)"
   ]
  },
  {
   "cell_type": "code",
   "execution_count": 97,
   "metadata": {
    "ExecuteTime": {
     "end_time": "2019-06-09T14:04:48.706244Z",
     "start_time": "2019-06-09T14:04:46.890673Z"
    }
   },
   "outputs": [],
   "source": [
    "model.save(\"ct_BiLSTM_2.h5\")"
   ]
  },
  {
   "cell_type": "markdown",
   "metadata": {},
   "source": [
    "# 数据预处理"
   ]
  },
  {
   "cell_type": "code",
   "execution_count": 12,
   "metadata": {
    "ExecuteTime": {
     "end_time": "2019-06-09T03:30:18.970020Z",
     "start_time": "2019-06-09T03:30:18.955367Z"
    }
   },
   "outputs": [],
   "source": [
    "x0= np.arange(511)  # 原始数据\n",
    "x_new = np.linspace(x0.min(), x0.max(), 302)  # 插值成 512 个点"
   ]
  },
  {
   "cell_type": "code",
   "execution_count": 14,
   "metadata": {
    "ExecuteTime": {
     "end_time": "2019-06-09T03:32:01.500249Z",
     "start_time": "2019-06-09T03:32:01.489894Z"
    }
   },
   "outputs": [
    {
     "name": "stdout",
     "output_type": "stream",
     "text": [
      "Dose_inter_slinear 是不是 ndarray 类型 ？  True\n",
      "Dose_inter_slinear  Size :  (10, 302)\n"
     ]
    }
   ],
   "source": [
    "# 限制插值点的范围\n",
    "from scipy import interpolate \n",
    "dose_list_slinear = []\n",
    "for i in range(10):\n",
    "    dose = ct[i]\n",
    "    f = interpolate.interp1d(x0, dose, kind=\"slinear\")\n",
    "    dose_new = f(x_new)\n",
    "    dose_list_slinear.append(dose_new)\n",
    "\n",
    "Dose_inter_slinear = np.array(dose_list_slinear)\n",
    "print(\"Dose_inter_slinear 是不是 ndarray 类型 ？ \", isinstance(Dose_inter_slinear,\n",
    "                                                 np.ndarray))\n",
    "print(\"Dose_inter_slinear  Size : \", np.shape(Dose_inter_slinear))"
   ]
  },
  {
   "cell_type": "code",
   "execution_count": 15,
   "metadata": {
    "ExecuteTime": {
     "end_time": "2019-06-09T03:32:28.386893Z",
     "start_time": "2019-06-09T03:32:28.178573Z"
    }
   },
   "outputs": [
    {
     "data": {
      "text/plain": [
       "[<matplotlib.lines.Line2D at 0xb20e76e10>]"
      ]
     },
     "execution_count": 15,
     "metadata": {},
     "output_type": "execute_result"
    },
    {
     "data": {
      "image/png": "[encoded data removed]",
      "text/plain": [
       "<Figure size 432x288 with 1 Axes>"
      ]
     },
     "metadata": {
      "needs_background": "light"
     },
     "output_type": "display_data"
    }
   ],
   "source": [
    "plt.plot(Dose_inter_slinear[1,:])"
   ]
  },
  {
   "cell_type": "code",
   "execution_count": 17,
   "metadata": {
    "ExecuteTime": {
     "end_time": "2019-06-09T03:35:14.844439Z",
     "start_time": "2019-06-09T03:35:14.661557Z"
    }
   },
   "outputs": [],
   "source": [
    "data_df = pd.DataFrame(Dose_inter_slinear)\n",
    "\n",
    "writer = pd.ExcelWriter('Dose_inter_slinear.xlsx')\n",
    "data_df.to_excel(writer, 'page_1', float_format='%.8f',header=None,index=None,columns=None)  # float_format 控制精度\n",
    "writer.save()"
   ]
  },
  {
   "cell_type": "code",
   "execution_count": 22,
   "metadata": {
    "ExecuteTime": {
     "end_time": "2019-06-09T03:37:02.107955Z",
     "start_time": "2019-06-09T03:37:02.034452Z"
    }
   },
   "outputs": [],
   "source": [
    "ct = pd.read_excel(\"Dose_inter_slinear.xlsx\",header= None)\n",
    "ct = np.array(ct)"
   ]
  },
  {
   "cell_type": "code",
   "execution_count": 23,
   "metadata": {
    "ExecuteTime": {
     "end_time": "2019-06-09T03:37:02.909506Z",
     "start_time": "2019-06-09T03:37:02.714036Z"
    }
   },
   "outputs": [
    {
     "data": {
      "text/plain": [
       "[<matplotlib.lines.Line2D at 0xb2246f8d0>]"
      ]
     },
     "execution_count": 23,
     "metadata": {},
     "output_type": "execute_result"
    },
    {
     "data": {
      "image/png": "[encoded data removed]",
      "text/plain": [
       "<Figure size 432x288 with 1 Axes>"
      ]
     },
     "metadata": {
      "needs_background": "light"
     },
     "output_type": "display_data"
    }
   ],
   "source": [
    "plt.plot(ct[1,:])"
   ]
  },
  {
   "cell_type": "code",
   "execution_count": 24,
   "metadata": {
    "ExecuteTime": {
     "end_time": "2019-06-09T03:39:49.367687Z",
     "start_time": "2019-06-09T03:39:48.551827Z"
    }
   },
   "outputs": [],
   "source": [
    "df = pd.read_excel(\"train_3.xlsx\")  # 读取文件\n",
    "training_set = DataFrame(df)\n",
    "training_set = training_set.T\n",
    "X_train_0 = training_set.iloc[:, :302].values\n",
    "y_train_0 = training_set.iloc[:, 302:].values\n",
    "X_train_0 = X_train_0[:, :250]\n",
    "y_train_0 = y_train_0[:, :250]  # 修建 0 值"
   ]
  },
  {
   "cell_type": "code",
   "execution_count": 25,
   "metadata": {
    "ExecuteTime": {
     "end_time": "2019-06-09T03:41:19.293073Z",
     "start_time": "2019-06-09T03:41:19.286530Z"
    }
   },
   "outputs": [],
   "source": [
    "ct = ct[:,:250]\n",
    "X_train_total = np.zeros((200,250,2))\n",
    "for i in range(200):\n",
    "    X_train_total[i,:,0] = X_train_0[i,:]\n",
    "for i in range(200):\n",
    "    X_train_total[i,:,1] = ct[i%10,:]"
   ]
  },
  {
   "cell_type": "code",
   "execution_count": 26,
   "metadata": {
    "ExecuteTime": {
     "end_time": "2019-06-09T03:43:00.237568Z",
     "start_time": "2019-06-09T03:43:00.229489Z"
    }
   },
   "outputs": [],
   "source": [
    "X_train_total = np.zeros((200,250,2))"
   ]
  },
  {
   "cell_type": "code",
   "execution_count": 29,
   "metadata": {
    "ExecuteTime": {
     "end_time": "2019-06-09T03:46:02.547651Z",
     "start_time": "2019-06-09T03:46:02.538881Z"
    }
   },
   "outputs": [],
   "source": [
    "import math"
   ]
  },
  {
   "cell_type": "code",
   "execution_count": 35,
   "metadata": {
    "ExecuteTime": {
     "end_time": "2019-06-09T03:55:49.225852Z",
     "start_time": "2019-06-09T03:55:49.219376Z"
    }
   },
   "outputs": [],
   "source": [
    "for i in range(200):\n",
    "    X_train_total[i,:,0] = X_train_0[i,:]\n",
    "for i in range(200):\n",
    "    X_train_total[i,:,1] = ct[i%10,:]"
   ]
  },
  {
   "cell_type": "code",
   "execution_count": 34,
   "metadata": {
    "ExecuteTime": {
     "end_time": "2019-06-09T03:55:37.051687Z",
     "start_time": "2019-06-09T03:55:37.043983Z"
    }
   },
   "outputs": [
    {
     "data": {
      "text/plain": [
       "1"
      ]
     },
     "execution_count": 34,
     "metadata": {},
     "output_type": "execute_result"
    }
   ],
   "source": [
    "21%10"
   ]
  },
  {
   "cell_type": "code",
   "execution_count": 36,
   "metadata": {
    "ExecuteTime": {
     "end_time": "2019-06-09T03:55:52.591148Z",
     "start_time": "2019-06-09T03:55:52.581546Z"
    }
   },
   "outputs": [
    {
     "data": {
      "text/plain": [
       "array([[[ 0.00000000e+00, -1.00000000e+03],\n",
       "        [ 0.00000000e+00, -1.00000000e+03],\n",
       "        [ 0.00000000e+00, -1.00000000e+03],\n",
       "        ...,\n",
       "        [ 0.00000000e+00,  7.79102990e+01],\n",
       "        [ 7.88171000e-04,  6.59966777e+01],\n",
       "        [ 4.33666000e-04,  8.25116279e+01]],\n",
       "\n",
       "       [[ 0.00000000e+00, -1.00000000e+03],\n",
       "        [ 4.12062000e-05, -9.99000000e+02],\n",
       "        [ 4.12062000e-05, -1.00000000e+03],\n",
       "        ...,\n",
       "        [ 4.10272000e-04,  6.25647841e+01],\n",
       "        [ 0.00000000e+00,  7.02059801e+01],\n",
       "        [ 8.61751000e-04,  7.37242525e+01]],\n",
       "\n",
       "       [[ 7.92501000e-05, -1.00000000e+03],\n",
       "        [ 0.00000000e+00, -9.98305648e+02],\n",
       "        [ 3.96251000e-05, -9.99388704e+02],\n",
       "        ...,\n",
       "        [ 0.00000000e+00,  6.19900332e+01],\n",
       "        [ 1.22000000e-03,  5.74019934e+01],\n",
       "        [ 4.34155000e-04,  5.58936877e+01]],\n",
       "\n",
       "       ...,\n",
       "\n",
       "       [[ 1.61481940e-04, -1.00000000e+03],\n",
       "        [ 0.00000000e+00, -1.00000000e+03],\n",
       "        [ 6.57462200e-04, -1.00000000e+03],\n",
       "        ...,\n",
       "        [ 7.38203170e-04,  3.70199335e+01],\n",
       "        [ 7.38203170e-04,  1.96112957e+01],\n",
       "        [ 1.89164560e-03,  1.53156146e+00]],\n",
       "\n",
       "       [[ 1.58388240e-03, -9.98000000e+02],\n",
       "        [ 5.27960800e-04, -1.00000000e+03],\n",
       "        [ 0.00000000e+00, -9.99000000e+02],\n",
       "        ...,\n",
       "        [ 1.73171140e-03,  3.03853821e+01],\n",
       "        [ 6.02931240e-03,  2.41893688e+01],\n",
       "        [ 1.65779690e-03,  4.23621263e+01]],\n",
       "\n",
       "       [[ 1.28572160e-03, -1.00000000e+03],\n",
       "        [ 6.00003430e-05, -1.00000000e+03],\n",
       "        [ 4.28573880e-04, -1.00000000e+03],\n",
       "        ...,\n",
       "        [ 1.77429590e-03,  7.50099668e+01],\n",
       "        [ 9.17148100e-04,  6.68073090e+01],\n",
       "        [ 1.28572160e-03,  4.54883721e+01]]])"
      ]
     },
     "execution_count": 36,
     "metadata": {},
     "output_type": "execute_result"
    }
   ],
   "source": [
    "X_train_total"
   ]
  },
  {
   "cell_type": "code",
   "execution_count": 37,
   "metadata": {
    "ExecuteTime": {
     "end_time": "2019-06-09T03:56:26.854859Z",
     "start_time": "2019-06-09T03:56:26.666296Z"
    }
   },
   "outputs": [
    {
     "data": {
      "text/plain": [
       "[<matplotlib.lines.Line2D at 0xb222f5eb8>]"
      ]
     },
     "execution_count": 37,
     "metadata": {},
     "output_type": "execute_result"
    },
    {
     "data": {
      "image/png": "[encoded data removed]",
      "text/plain": [
       "<Figure size 432x288 with 1 Axes>"
      ]
     },
     "metadata": {
      "needs_background": "light"
     },
     "output_type": "display_data"
    }
   ],
   "source": [
    "plt.plot(X_train_total[1,:,1])"
   ]
  },
  {
   "cell_type": "code",
   "execution_count": 39,
   "metadata": {
    "ExecuteTime": {
     "end_time": "2019-06-09T04:06:10.278251Z",
     "start_time": "2019-06-09T04:06:10.250901Z"
    }
   },
   "outputs": [],
   "source": [
    "from sklearn.model_selection import train_test_split\n",
    "X_train, X_test, y_train, y_test = train_test_split(\n",
    "            X_train_total,\n",
    "            y_train_0,\n",
    "            test_size=0.2,\n",
    "            random_state=1340)\n"
   ]
  },
  {
   "cell_type": "code",
   "execution_count": 41,
   "metadata": {
    "ExecuteTime": {
     "end_time": "2019-06-09T04:08:25.433279Z",
     "start_time": "2019-06-09T04:08:25.425376Z"
    }
   },
   "outputs": [
    {
     "data": {
      "text/plain": [
       "(250, 2)"
      ]
     },
     "execution_count": 41,
     "metadata": {},
     "output_type": "execute_result"
    }
   ],
   "source": [
    "np.shape(X_test[1])"
   ]
  },
  {
   "cell_type": "code",
   "execution_count": null,
   "metadata": {},
   "outputs": [],
   "source": []
  }
 ],
 "metadata": {
  "kernelspec": {
   "display_name": "Python 3",
   "language": "python",
   "name": "python3"
  },
  "language_info": {
   "codemirror_mode": {
    "name": "ipython",
    "version": 3
   },
   "file_extension": ".py",
   "mimetype": "text/x-python",
   "name": "python",
   "nbconvert_exporter": "python",
   "pygments_lexer": "ipython3",
   "version": "3.6.7"
  },
  "toc": {
   "base_numbering": 1,
   "nav_menu": {},
   "number_sections": true,
   "sideBar": true,
   "skip_h1_title": false,
   "title_cell": "Table of Contents",
   "title_sidebar": "Contents",
   "toc_cell": true,
   "toc_position": {},
   "toc_section_display": true,
   "toc_window_display": false
  },
  "varInspector": {
   "cols": {
    "lenName": 16,
    "lenType": 16,
    "lenVar": 40
   },
   "kernels_config": {
    "python": {
     "delete_cmd_postfix": "",
     "delete_cmd_prefix": "del ",
     "library": "var_list.py",
     "varRefreshCmd": "print(var_dic_list())"
    },
    "r": {
     "delete_cmd_postfix": ") ",
     "delete_cmd_prefix": "rm(",
     "library": "var_list.r",
     "varRefreshCmd": "cat(var_dic_list()) "
    }
   },
   "oldHeight": 493,
   "position": {
    "height": "40px",
    "left": "1070px",
    "right": "20px",
    "top": "120px",
    "width": "356px"
   },
   "types_to_exclude": [
    "module",
    "function",
    "builtin_function_or_method",
    "instance",
    "_Feature"
   ],
   "varInspector_section_display": "none",
   "window_display": true
  }
 },
 "nbformat": 4,
 "nbformat_minor": 2
}
